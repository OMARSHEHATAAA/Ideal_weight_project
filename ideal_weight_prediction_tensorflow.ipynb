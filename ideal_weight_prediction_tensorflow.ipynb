{
 "cells": [
  {
   "cell_type": "markdown",
   "id": "5074578c",
   "metadata": {},
   "source": [
    "## 🧠 Ideal Weight Prediction using Neural Network in TensorFlow\n",
    "This notebook predicts a person's ideal weight using their height, age, and gender with a neural network built using TensorFlow."
   ]
  },
  {
   "cell_type": "markdown",
   "id": "1616ad3f",
   "metadata": {},
   "source": [
    "### 🧠 Neural Network Overview\n",
    "The network consists of 3 hidden layers using ReLU activations and Dropout for regularization."
   ]
  },
  {
   "cell_type": "code",
   "execution_count": null,
   "id": "bc2c979c",
   "metadata": {},
   "outputs": [],
   "source": [
    "# 📦 Import necessary libraries\n",
    "import pandas as pd\n",
    "import numpy as np\n",
    "import tensorflow as tf\n",
    "from tensorflow.keras.models import Sequential\n",
    "from tensorflow.keras.layers import Dense, Dropout\n",
    "from sklearn.model_selection import train_test_split\n",
    "from sklearn.preprocessing import LabelEncoder, StandardScaler\n",
    "import matplotlib.pyplot as plt\n",
    "\n",
    "import os\n",
    "if not os.path.exists('ideal_weight_dataset.csv'):\n",
    "    from google.colab import files\n",
    "    uploaded = files.upload()"
   ]
  },
  {
   "cell_type": "markdown",
   "id": "f359fcb2",
   "metadata": {},
   "source": [
    "### 📥 Load and Explore the Dataset"
   ]
  },
  {
   "cell_type": "code",
   "execution_count": null,
   "id": "7c0fea28",
   "metadata": {},
   "outputs": [],
   "source": [
    "# Load dataset\n",
    "df = pd.read_csv('ideal_weight_dataset.csv')\n",
    "\n",
    "# Display first few rows\n",
    "df.head()"
   ]
  },
  {
   "cell_type": "code",
   "execution_count": null,
   "id": "acc42aa1",
   "metadata": {},
   "outputs": [],
   "source": [
    "# ⚙️ Encode gender and scale features\n",
    "df['Gender'] = LabelEncoder().fit_transform(df['Gender'])  # Male=1, Female=0\n",
    "X = df[['Height', 'Age', 'Gender']].values\n",
    "y = df['Ideal_Weight'].values\n",
    "\n",
    "scaler = StandardScaler()\n",
    "X_scaled = scaler.fit_transform(X)\n",
    "\n",
    "# Split into train/test sets\n",
    "X_train, X_test, y_train, y_test = train_test_split(X_scaled, y, test_size=0.2, random_state=42)"
   ]
  },
  {
   "cell_type": "markdown",
   "id": "950ba945",
   "metadata": {},
   "source": [
    "### 🧠 Build and Train Neural Network"
   ]
  },
  {
   "cell_type": "code",
   "execution_count": null,
   "id": "cf2e7596",
   "metadata": {},
   "outputs": [],
   "source": [
    "# Define the model\n",
    "model = Sequential([\n",
    "    Dense(64, activation='relu', input_shape=(X_train.shape[1],)),\n",
    "    Dropout(0.2),\n",
    "    Dense(32, activation='relu'),\n",
    "    Dropout(0.2),\n",
    "    Dense(16, activation='relu'),\n",
    "    Dense(1)\n",
    "])\n",
    "\n",
    "# Compile the model\n",
    "model.compile(optimizer='adam', loss='mean_squared_error', metrics=['mae'])\n",
    "\n",
    "# Train the model\n",
    "history = model.fit(X_train, y_train, validation_split=0.1, epochs=150, batch_size=16, verbose=1)"
   ]
  },
  {
   "cell_type": "markdown",
   "id": "7cb8c897",
   "metadata": {},
   "source": [
    "### 📊 Evaluate the Model and Plot Results"
   ]
  },
  {
   "cell_type": "code",
   "execution_count": null,
   "id": "0c682247",
   "metadata": {},
   "outputs": [],
   "source": [
    "# Evaluate on test data\n",
    "loss, mae = model.evaluate(X_test, y_test, verbose=0)\n",
    "print(f\"Test MAE: {mae:.2f} kg\")"
   ]
  },
  {
   "cell_type": "code",
   "execution_count": null,
   "id": "45963005",
   "metadata": {},
   "outputs": [],
   "source": [
    "# Plot training history\n",
    "plt.figure(figsize=(8, 5))\n",
    "plt.plot(history.history['mae'], label='Train MAE')\n",
    "plt.plot(history.history['val_mae'], label='Val MAE')\n",
    "plt.xlabel('Epochs')\n",
    "plt.ylabel('Mean Absolute Error (kg)')\n",
    "plt.title('Model Training History')\n",
    "plt.legend()\n",
    "plt.grid(True)\n",
    "plt.show()"
   ]
  },
  {
   "cell_type": "code",
   "execution_count": null,
   "id": "cf820000",
   "metadata": {},
   "outputs": [],
   "source": [
    "# 💾 Save the trained model\n",
    "model.save('ideal_weight_neural_net_model.h5')\n",
    "print(\"Model saved as 'ideal_weight_neural_net_model.h5'\")"
   ]
  }
 ],
 "metadata": {},
 "nbformat": 4,
 "nbformat_minor": 5
}
