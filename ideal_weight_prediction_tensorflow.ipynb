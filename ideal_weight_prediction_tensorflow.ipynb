{
 "cells": [
  {
   "cell_type": "markdown",
   "id": "26759650",
   "metadata": {},
   "source": [
    "# 🧠 Ideal Weight Prediction using Neural Network in TensorFlow\n",
    "This notebook predicts a person's ideal weight using their height, age, and gender using a neural network built with TensorFlow."
   ]
  },
  {
   "cell_type": "code",
   "execution_count": null,
   "id": "0e3e521f",
   "metadata": {},
   "outputs": [],
   "source": [
    "import pandas as pd\n",
    "import numpy as np\n",
    "import tensorflow as tf\n",
    "from tensorflow.keras.models import Sequential\n",
    "from tensorflow.keras.layers import Dense, Dropout\n",
    "from sklearn.model_selection import train_test_split\n",
    "from sklearn.preprocessing import LabelEncoder, StandardScaler\n",
    "import matplotlib.pyplot as plt"
   ]
  },
  {
   "cell_type": "markdown",
   "id": "7a0e0c06",
   "metadata": {},
   "source": [
    "## 📥 Load and Explore the Dataset"
   ]
  },
  {
   "cell_type": "code",
   "execution_count": null,
   "id": "da1193b6",
   "metadata": {},
   "outputs": [],
   "source": [
    "# Load dataset (make sure the CSV file is uploaded to your Colab environment)\n",
    "df = pd.read_csv('ideal_weight_dataset.csv')\n",
    "df.head()"
   ]
  },
  {
   "cell_type": "markdown",
   "id": "8049d330",
   "metadata": {},
   "source": [
    "## ⚙️ Preprocess Data"
   ]
  },
  {
   "cell_type": "code",
   "execution_count": null,
   "id": "34e917fa",
   "metadata": {},
   "outputs": [],
   "source": [
    "# Normalize column names\n",
    "df.columns = df.columns.str.strip().str.lower()\n",
    "print(\"Available columns:\", df.columns.tolist())\n",
    "\n",
    "# Use correct column names\n",
    "X = df[['height', 'age', 'gender']].copy()\n",
    "X['gender'] = LabelEncoder().fit_transform(X['gender'])\n",
    "y = df['ideal_weight'].values\n",
    "\n",
    "# Scale features\n",
    "scaler = StandardScaler()\n",
    "X_scaled = scaler.fit_transform(X)\n",
    "\n",
    "# Split\n",
    "X_train, X_test, y_train, y_test = train_test_split(X_scaled, y, test_size=0.2, random_state=42)"
   ]
  },
  {
   "cell_type": "markdown",
   "id": "fed4f092",
   "metadata": {},
   "source": [
    "## 🧠 Build and Train Neural Network"
   ]
  },
  {
   "cell_type": "code",
   "execution_count": null,
   "id": "d7355068",
   "metadata": {},
   "outputs": [],
   "source": [
    "model = Sequential([\n",
    "    Dense(64, activation='relu', input_shape=(X_train.shape[1],)),\n",
    "    Dropout(0.2),\n",
    "    Dense(32, activation='relu'),\n",
    "    Dropout(0.2),\n",
    "    Dense(16, activation='relu'),\n",
    "    Dense(1)\n",
    "])\n",
    "\n",
    "model.compile(optimizer='adam', loss='mean_squared_error', metrics=['mae'])\n",
    "\n",
    "history = model.fit(X_train, y_train, validation_split=0.1, epochs=150, batch_size=16, verbose=1)"
   ]
  },
  {
   "cell_type": "markdown",
   "id": "fde5b198",
   "metadata": {},
   "source": [
    "## 📊 Evaluate the Model"
   ]
  },
  {
   "cell_type": "code",
   "execution_count": null,
   "id": "2f4903c5",
   "metadata": {},
   "outputs": [],
   "source": [
    "loss, mae = model.evaluate(X_test, y_test, verbose=0)\n",
    "print(f\"Test MAE: {mae:.2f} kg\")\n",
    "\n",
    "# Plot history\n",
    "plt.figure(figsize=(8, 5))\n",
    "plt.plot(history.history['mae'], label='Train MAE')\n",
    "plt.plot(history.history['val_mae'], label='Val MAE')\n",
    "plt.xlabel('Epochs')\n",
    "plt.ylabel('Mean Absolute Error (kg)')\n",
    "plt.title('Model Training History')\n",
    "plt.legend()\n",
    "plt.grid(True)\n",
    "plt.show()"
   ]
  },
  {
   "cell_type": "code",
   "execution_count": null,
   "id": "0f68650d",
   "metadata": {},
   "outputs": [],
   "source": [
    "model.save('ideal_weight_neural_net_model.h5')\n",
    "print(\"Model saved as 'ideal_weight_neural_net_model.h5'\")"
   ]
  }
 ],
 "metadata": {},
 "nbformat": 4,
 "nbformat_minor": 5
}
