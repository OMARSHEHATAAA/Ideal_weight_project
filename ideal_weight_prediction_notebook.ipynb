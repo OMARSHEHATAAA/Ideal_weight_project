{
 "cells": [
  {
   "cell_type": "markdown",
   "id": "1d434116",
   "metadata": {},
   "source": [
    "# ⚖️ Weight Prediction المثالي باستخدام الطول وage وgender\n",
    "\n",
    "هذا الModel يستخدم بيانات بسيطة لتدريب Model يWeight Prediction بناءً على:\n",
    "- الطول (سم)\n",
    "- age (بالسنوات)\n",
    "- gender (male/female)\n",
    "\n",
    "نسبة التقسيم: **80% تدريب / 20% اختبار**"
   ]
  },
  {
   "cell_type": "code",
   "execution_count": null,
   "id": "7a437226",
   "metadata": {},
   "outputs": [],
   "source": [
    "# 📦 استيراد المكتبات\n",
    "import pandas as pd\n",
    "import seaborn as sns\n",
    "import matplotlib.pyplot as plt\n",
    "from sklearn.model_selection import train_test_split\n",
    "from sklearn.linear_model import LinearRegression\n",
    "from sklearn.preprocessing import LabelEncoder\n",
    "from sklearn.metrics import mean_squared_error, r2_score\n"
   ]
  },
  {
   "cell_type": "code",
   "execution_count": null,
   "id": "11bdb1bd",
   "metadata": {},
   "outputs": [],
   "source": [
    "# 📥 تحميل data\n",
    "df = pd.read_csv(\"/mnt/data/ideal_weight_dataset.csv\")\n",
    "df"
   ]
  },
  {
   "cell_type": "markdown",
   "id": "b462f302",
   "metadata": {},
   "source": [
    "## 👁️‍🗨️ Preview of the dataset"
   ]
  },
  {
   "cell_type": "code",
   "execution_count": null,
   "id": "0e9db038",
   "metadata": {},
   "outputs": [],
   "source": [
    "df.info()"
   ]
  },
  {
   "cell_type": "markdown",
   "id": "0a109152",
   "metadata": {},
   "source": [
    "## 📊 تحليل بصري بسيط"
   ]
  },
  {
   "cell_type": "code",
   "execution_count": null,
   "id": "50d74336",
   "metadata": {},
   "outputs": [],
   "source": [
    "sns.pairplot(df, hue=\"gender\")\n",
    "plt.suptitle(\"Relationships Between Features\", y=1.02)\n",
    "plt.show()"
   ]
  },
  {
   "cell_type": "markdown",
   "id": "d1e7aac1",
   "metadata": {},
   "source": [
    "## 🔄 تجهيز data للتدريب"
   ]
  },
  {
   "cell_type": "code",
   "execution_count": null,
   "id": "afb77bc7",
   "metadata": {},
   "outputs": [],
   "source": [
    "# تحويل gender إلى رقم\n",
    "le = LabelEncoder()\n",
    "df[\"gender\"] = le.fit_transform(df[\"gender\"])\n",
    "\n",
    "# فصل الميزات والهدف\n",
    "X = df[[\"height_cm\", \"age\", \"gender\"]]\n",
    "y = df[\"weight_kg\"]\n",
    "\n",
    "# تقسيم data 80% تدريب / 20% اختبار\n",
    "X_train, X_test, y_train, y_test = train_test_split(X, y, test_size=0.2, random_state=42)\n",
    "X_train.head()"
   ]
  },
  {
   "cell_type": "markdown",
   "id": "49afe7e8",
   "metadata": {},
   "source": [
    "## ⚙️ تدريب Model الانحدار الخطي"
   ]
  },
  {
   "cell_type": "code",
   "execution_count": null,
   "id": "6d72c0c3",
   "metadata": {},
   "outputs": [],
   "source": [
    "model = LinearRegression()\n",
    "model.fit(X_train, y_train)\n",
    "\n",
    "# توقع على بيانات الاختبار\n",
    "y_pred = model.predict(X_test)\n",
    "\n",
    "# Evaluation الModel\n",
    "mse = mean_squared_error(y_test, y_pred)\n",
    "r2 = r2_score(y_test, y_pred)\n",
    "\n",
    "print(\"🔍 MSE:\", mse)\n",
    "print(\"📈 R^2 Score:\", r2)"
   ]
  },
  {
   "cell_type": "markdown",
   "id": "b1cbe6ae",
   "metadata": {},
   "source": [
    "## ✅ مثال عملي على التوقع"
   ]
  },
  {
   "cell_type": "code",
   "execution_count": null,
   "id": "64c5af0f",
   "metadata": {},
   "outputs": [],
   "source": [
    "# شخص جديد: الطول 172، age 26، female (0)\n",
    "import numpy as np\n",
    "new_person = pd.DataFrame([[172, 26, 0]], columns=[\"height_cm\", \"age\", \"gender\"])\n",
    "predicted_weight = model.predict(new_person)[0]\n",
    "print(f\"✅ Predicted weight: {predicted_weight:.2f} كغ\")"
   ]
  },
  {
   "cell_type": "markdown",
   "id": "3dff5e33",
   "metadata": {},
   "source": [
    "## 📌 ملاحظات:\n",
    "- الModel بسيط جدًا لأغراض تعليمية.\n",
    "- يمكن تطويره بإضافة خصائص أخرى مثل النشاط البدني أو النظام الغذائي."
   ]
  }
 ],
 "metadata": {},
 "nbformat": 4,
 "nbformat_minor": 5
}
